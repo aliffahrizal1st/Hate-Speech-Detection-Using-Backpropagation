{
  "nbformat": 4,
  "nbformat_minor": 0,
  "metadata": {
    "colab": {
      "name": "Backpropagation.ipynb",
      "provenance": [],
      "collapsed_sections": []
    },
    "kernelspec": {
      "name": "python3",
      "display_name": "Python 3"
    }
  },
  "cells": [
    {
      "cell_type": "code",
      "metadata": {
        "id": "PNZwFGcy2FjW",
        "colab": {
          "base_uri": "https://localhost:8080/",
          "height": 109
        },
        "outputId": "81567bc6-2253-4048-983c-42888f237f0b"
      },
      "source": [
        "pip install sklearn"
      ],
      "execution_count": null,
      "outputs": [
        {
          "output_type": "stream",
          "text": [
            "Requirement already satisfied: sklearn in /usr/local/lib/python3.6/dist-packages (0.0)\n",
            "Requirement already satisfied: scikit-learn in /usr/local/lib/python3.6/dist-packages (from sklearn) (0.22.2.post1)\n",
            "Requirement already satisfied: scipy>=0.17.0 in /usr/local/lib/python3.6/dist-packages (from scikit-learn->sklearn) (1.4.1)\n",
            "Requirement already satisfied: numpy>=1.11.0 in /usr/local/lib/python3.6/dist-packages (from scikit-learn->sklearn) (1.18.5)\n",
            "Requirement already satisfied: joblib>=0.11 in /usr/local/lib/python3.6/dist-packages (from scikit-learn->sklearn) (0.16.0)\n"
          ],
          "name": "stdout"
        }
      ]
    },
    {
      "cell_type": "markdown",
      "metadata": {
        "id": "dhe_vL6M16c3"
      },
      "source": [
        "**Import library**"
      ]
    },
    {
      "cell_type": "code",
      "metadata": {
        "id": "ufoiFd0d64G8",
        "colab": {
          "base_uri": "https://localhost:8080/",
          "height": 35
        },
        "outputId": "9e978fb6-9be4-4c2f-d8b3-ca42ee5b4a3e"
      },
      "source": [
        "import pandas as pd\n",
        "import math\n",
        "import numpy as np\n",
        "import random as ra\n",
        "from sklearn.utils import shuffle\n",
        "from sklearn.metrics import confusion_matrix, classification_report\n",
        "import seaborn as sns\n",
        "import matplotlib.pyplot as plt\n",
        "from google.colab import files, drive\n",
        "drive.mount('/content/gdrive')"
      ],
      "execution_count": null,
      "outputs": [
        {
          "output_type": "stream",
          "text": [
            "Drive already mounted at /content/gdrive; to attempt to forcibly remount, call drive.mount(\"/content/gdrive\", force_remount=True).\n"
          ],
          "name": "stdout"
        }
      ]
    },
    {
      "cell_type": "markdown",
      "metadata": {
        "id": "fHvpD-6P37KP"
      },
      "source": [
        "**Kata Unik (Tidak Duplikat)**"
      ]
    },
    {
      "cell_type": "code",
      "metadata": {
        "id": "1tzcvvF26phK"
      },
      "source": [
        "#Ekstraksi Kata Unik\n",
        "def term(text):\n",
        "  hasil=[]\n",
        "  for i in text:\n",
        "    for j in i.split():\n",
        "      if j not in hasil:\n",
        "        hasil.append(j)\n",
        "  return hasil"
      ],
      "execution_count": null,
      "outputs": []
    },
    {
      "cell_type": "markdown",
      "metadata": {
        "id": "lzNagq8z8rlb"
      },
      "source": [
        "**term frequency (tf)**"
      ]
    },
    {
      "cell_type": "code",
      "metadata": {
        "id": "OE5UiZHx8rPE"
      },
      "source": [
        "#Menghitung frekuensi kemunculan kata per dokumen aka term frequency (tf)\n",
        "def termfrequency(text,term):\n",
        "  hasil = []\n",
        "  text = [i.split() for i in text]\n",
        "  for i in range(len(text)):\n",
        "    hasil.append([])\n",
        "    for j in range(len(term)):\n",
        "      hasil[i].append(text[i].count(term[j]))\n",
        "  return hasil"
      ],
      "execution_count": null,
      "outputs": []
    },
    {
      "cell_type": "markdown",
      "metadata": {
        "id": "6ASLyraVF_Oz"
      },
      "source": [
        "**Backpropagation**"
      ]
    },
    {
      "cell_type": "code",
      "metadata": {
        "id": "dpjFYj0NDOFC"
      },
      "source": [
        "#Fungsi Inisialisasi Bobot\n",
        "def weight(n_input,n_hidden,n_output):\n",
        "  beta = 0.7 * (n_output**(1/n_input))\n",
        "  #Hidden Layer\n",
        "  hidden = []\n",
        "  for i in range(n_hidden):\n",
        "    hidden.append([])\n",
        "    vector = 0\n",
        "    for j in range(n_input):\n",
        "      rand = ra.uniform(-0.5,0.5)\n",
        "      hidden[i].append(rand)\n",
        "      vector += rand**2\n",
        "    hidden[i] = [(beta*y)/math.sqrt(vector) for y in hidden[i]]\n",
        "  \n",
        "  #Output Layer\n",
        "  output = []\n",
        "  for i in range(n_output):\n",
        "    output.append([])\n",
        "    for j in range(n_hidden):\n",
        "      rand = ra.uniform(-0.5,0.5)\n",
        "      output[i].append(rand)\n",
        "  \n",
        "  return hidden,output"
      ],
      "execution_count": null,
      "outputs": []
    },
    {
      "cell_type": "code",
      "metadata": {
        "id": "Bozz4uGWrR2B"
      },
      "source": [
        "#Fungsi Inisialisasi Bias\n",
        "def bias(n_hidden,n_output):\n",
        "  #Hidden Layer\n",
        "  hidden = []\n",
        "  for i in range(n_hidden):\n",
        "    rand = ra.uniform(-0.5,0.5)\n",
        "    hidden.append(rand)\n",
        "  \n",
        "  #Output Layer\n",
        "  output = []\n",
        "  for i in range(n_output):\n",
        "    rand = ra.uniform(-0.5,0.5)\n",
        "    output.append(rand)\n",
        "  \n",
        "  return hidden,output"
      ],
      "execution_count": null,
      "outputs": []
    },
    {
      "cell_type": "code",
      "metadata": {
        "id": "3p_t6T4ZBgti"
      },
      "source": [
        "#Aktivasi\n",
        "#Sigmoid\n",
        "def sigmoid(x):\n",
        "  return 1.0/(1.0 + np.exp(-x))\n",
        "\n",
        "#Turunan Sigmoid\n",
        "def derivative_sigmoid(x):\n",
        "  return sigmoid(x)*(1.0-sigmoid(x))"
      ],
      "execution_count": null,
      "outputs": []
    },
    {
      "cell_type": "code",
      "metadata": {
        "id": "FNof8nVLLK3E"
      },
      "source": [
        "#Forward Propagation\n",
        "def forward(termfreqTrain,w_hidden,w_output,b_hidden,b_output):\n",
        "  #Hidden Layer\n",
        "  in_hidden = np.add(np.dot(w_hidden,termfreqTrain.T),b_hidden)\n",
        "  out_hidden = sigmoid(in_hidden)\n",
        "  #Output Layer\n",
        "  in_output = np.add(np.dot(w_output,out_hidden),b_output)\n",
        "  out_output = sigmoid(in_output)\n",
        "  return out_output,in_output,out_hidden,in_hidden"
      ],
      "execution_count": null,
      "outputs": []
    },
    {
      "cell_type": "code",
      "metadata": {
        "id": "AXP1KKgjuyCs"
      },
      "source": [
        "#Fungsi Error Checking\n",
        "def error_check_output(or_label,in_output,out_output):\n",
        "  return np.multiply(np.subtract(or_label,out_output),derivative_sigmoid(in_output))\n",
        "\n",
        "def error_hidden(err_output,w_output):\n",
        "  return np.dot(err_output,w_output)\n",
        "\n",
        "def error_check_hidden(checkpoint_error_hidden,in_hidden):\n",
        "  return np.multiply(checkpoint_error_hidden,derivative_sigmoid(in_hidden))"
      ],
      "execution_count": null,
      "outputs": []
    },
    {
      "cell_type": "code",
      "metadata": {
        "id": "criGZxFHVbOx"
      },
      "source": [
        "#Fungsi Delta\n",
        "#Delta Bobot Output Layer\n",
        "def delta_bobot_output(alpha,err_output,out_hidden):\n",
        "  return (np.outer(err_output,out_hidden))*alpha\n",
        "\n",
        "#Delta Bias Output Layer\n",
        "def delta_bias_output(alpha,err_output):\n",
        "  return err_output*alpha\n",
        "\n",
        "#Delta Bobot Hidden Layer\n",
        "def delta_bobot_hidden(alpha,err_hidden,input):\n",
        "  return (np.outer(err_hidden,input))*alpha\n",
        "\n",
        "#Delta Bias Output Layer\n",
        "def delta_bias_hidden(alpha,err_hidden):\n",
        "  return err_hidden*alpha"
      ],
      "execution_count": null,
      "outputs": []
    },
    {
      "cell_type": "code",
      "metadata": {
        "id": "2nlrYfOF7h2T"
      },
      "source": [
        "#Back Propagation\n",
        "def backward(label,input,alpha,out_output,in_output,out_hidden,in_hidden):\n",
        "  #Output Layer Error Checking \n",
        "  err_output = error_check_output(label,in_output,out_output)\n",
        "  #Cek Delta Bobot Output Layer\n",
        "  deltaWeightOutput = delta_bobot_output(alpha,err_output,out_hidden)\n",
        "  #Cek Delta Bias Output Layer\n",
        "  deltaBiasOutput = delta_bias_output(alpha,err_output)\n",
        "  #Error Check Point dari Output Layer ke Hidden Layer\n",
        "  checkpoint_error_hidden = error_hidden(err_output,w_output)\n",
        "  #Hidden Layer Error Checking \n",
        "  err_hidden = error_check_hidden(checkpoint_error_hidden,in_hidden)\n",
        "  #Cek Delta Bobot Hidden Layer\n",
        "  deltaWeightHidden = delta_bobot_hidden(alpha,err_hidden,input)\n",
        "  #Cek Delta Bias Hidden Layer\n",
        "  deltaBiasHidden = delta_bias_hidden(alpha,err_hidden)\n",
        "  return deltaWeightOutput,deltaBiasOutput,deltaWeightHidden,deltaBiasHidden"
      ],
      "execution_count": null,
      "outputs": []
    },
    {
      "cell_type": "code",
      "metadata": {
        "id": "42eCSNg7-LC9"
      },
      "source": [
        "#Update Weight & Bias\n",
        "def update(w_hidden,w_output,b_hidden,b_output,deltaWeightOutput,deltaBiasOutput,deltaWeightHidden,deltaBiasHidden):\n",
        "  #Update Output Layer Weight\n",
        "  upWeightOutput = w_output+deltaWeightOutput\n",
        "  #Update Output Layer Bias\n",
        "  upBiasOutput = b_output+deltaBiasOutput\n",
        "  #Update Hidden Layer Weight\n",
        "  upWeightHidden = w_hidden+deltaWeightHidden\n",
        "  #Update Hidden Layer Bias\n",
        "  upBiasHidden = b_hidden+deltaBiasHidden\n",
        "  return upWeightOutput,upBiasOutput,upWeightHidden,upBiasHidden"
      ],
      "execution_count": null,
      "outputs": []
    },
    {
      "cell_type": "code",
      "metadata": {
        "id": "Q2ohSPTTAhdx"
      },
      "source": [
        "#Training\n",
        "def training(epochs,data_train,train_label,w_hidden,w_output,b_hidden,b_output,alpha):\n",
        "  w_output,b_output,w_hidden,b_hidden=w_output,b_output,w_hidden,b_hidden\n",
        "  for epoch in range(epochs):\n",
        "    for input,label in zip(data_train,train_label) :\n",
        "      #Forward Propagation\n",
        "      out_output,in_output,out_hidden,in_hidden = forward(input,w_hidden,w_output,b_hidden,b_output)\n",
        "      if (out_output!=label).all:\n",
        "        #Backward Propagation\n",
        "        deltaWeightOutput,deltaBiasOutput,deltaWeightHidden,deltaBiasHidden = backward(label,input,alpha,out_output,in_output,out_hidden,in_hidden)\n",
        "        #Update Weight\n",
        "        upWeightOutput,upBiasOutput,upWeightHidden,upBiasHidden = update(w_hidden,w_output,b_hidden,b_output,deltaWeightOutput,deltaBiasOutput,deltaWeightHidden,deltaBiasHidden)\n",
        "        w_output,b_output,w_hidden,b_hidden=upWeightOutput,upBiasOutput,upWeightHidden,upBiasHidden\n",
        "    #print('epoch: ', epoch)\n",
        "  return w_output,b_output,w_hidden,b_hidden"
      ],
      "execution_count": null,
      "outputs": []
    },
    {
      "cell_type": "code",
      "metadata": {
        "id": "rLT_-SiEBsuW"
      },
      "source": [
        "#Testing\n",
        "def test(data_test,test_label,w_output,b_output,w_hidden,b_hidden):\n",
        "  hasil = []\n",
        "  for input in data_test:\n",
        "    #Forward Propagation\n",
        "    out_output,in_output,out_hidden,in_hidden = forward(input,w_hidden,w_output,b_hidden,b_output)\n",
        "    out_output = oneHotFinal(out_output)\n",
        "    hasil.append(out_output)\n",
        "    #Cek Akurasi\n",
        "  confusionMatrix(np.array(hasil),test_label)"
      ],
      "execution_count": null,
      "outputs": []
    },
    {
      "cell_type": "code",
      "metadata": {
        "id": "IlUBOx4xTBcb"
      },
      "source": [
        "#One Hot Encode Label Test\n",
        "def oneHotFinal(out_output):\n",
        "    if (out_output[0]<out_output[1]):\n",
        "        out_output = [0,1]\n",
        "    elif (out_output[0]>out_output[1]):\n",
        "        out_output = [1,0]\n",
        "    return out_output"
      ],
      "execution_count": null,
      "outputs": []
    },
    {
      "cell_type": "code",
      "metadata": {
        "id": "6xGM4WouyHiL"
      },
      "source": [
        "#Akurasi\n",
        "def confusionMatrix(hasil,test_label):\n",
        "  f, ax = plt.subplots(figsize=(8,5))\n",
        "  sns.heatmap(confusion_matrix(hasil.argmax(axis=1), test_label.argmax(axis=1)), annot=True, fmt=\".0f\", ax=ax)\n",
        "  plt.xlabel(\"y_head\")\n",
        "  plt.ylabel(\"y_true\")\n",
        "  plt.show()\n",
        "  print (classification_report(hasil, test_label))"
      ],
      "execution_count": null,
      "outputs": []
    },
    {
      "cell_type": "markdown",
      "metadata": {
        "id": "ztNYSVQPI0bL"
      },
      "source": [
        "**Membaca Dataset**"
      ]
    },
    {
      "cell_type": "code",
      "metadata": {
        "id": "c_PCvqquL_l9"
      },
      "source": [
        "#One Hot Encoder Label Dataset\n",
        "def oneHotData(label):\n",
        "    for i in range(len(label)):\n",
        "        if label[i]==1:\n",
        "            label[i]=[1,0]\n",
        "        elif label[i]==0:\n",
        "            label[i]=[0,1]\n",
        "    return label"
      ],
      "execution_count": null,
      "outputs": []
    },
    {
      "cell_type": "code",
      "metadata": {
        "id": "JlbY0ymNLd94"
      },
      "source": [
        "#Dataset Training\n",
        "path_dataset = '/content/gdrive/My Drive/Dataset/Sprint 2/Dataset 1/Preprocessing Training.xlsx'\n",
        "df = pd.read_excel(path_dataset)\n",
        "\n",
        "#Memisahkan Data dengan Label\n",
        "x_train = df[r'Tweet'].values.tolist()\n",
        "y_train = df[r'HS'].values.tolist()\n",
        "y_train = np.array(oneHotData(y_train))\n",
        "\n",
        "#Extract Term Unik\n",
        "termTrain = term(x_train)\n",
        "\n",
        "#Menghitung Frekuensi Kata di tiap Dokumen\n",
        "termfreqTrain = np.array(termfrequency(x_train,termTrain))\n",
        "#print(termTrain)\n",
        "#print(len(termTrain))\n",
        "#print(termfreqTrain)"
      ],
      "execution_count": null,
      "outputs": []
    },
    {
      "cell_type": "code",
      "metadata": {
        "id": "VKlHvTNrI2My",
        "colab": {
          "base_uri": "https://localhost:8080/",
          "height": 146
        },
        "outputId": "303eaf2c-10bd-47fe-a535-7bebc45ee291"
      },
      "source": [
        "#Dataset Testing\n",
        "path_dataset = '/content/gdrive/My Drive/Dataset/Sprint 2/Dataset 1/Preprocessing Testing.xlsx'\n",
        "df = pd.read_excel(path_dataset)\n",
        "\n",
        "#Memisahkan Data dengan Label\n",
        "x_test = df[r'Tweet'].values.tolist()\n",
        "y_test  = df[r'HS'].values.tolist()\n",
        "y_test = np.array(oneHotData(y_test))\n",
        "\n",
        "#Menghitung Frekuensi Kata di tiap Dokumen\n",
        "termfreqTest = np.array(termfrequency(x_test,termTrain))\n",
        "print(termfreqTest)"
      ],
      "execution_count": null,
      "outputs": [
        {
          "output_type": "stream",
          "text": [
            "[[0 0 0 ... 0 0 0]\n",
            " [0 0 0 ... 0 0 0]\n",
            " [0 0 0 ... 0 0 0]\n",
            " ...\n",
            " [0 0 0 ... 0 0 0]\n",
            " [0 0 0 ... 0 0 0]\n",
            " [0 0 0 ... 0 0 0]]\n"
          ],
          "name": "stdout"
        }
      ]
    },
    {
      "cell_type": "markdown",
      "metadata": {
        "id": "0JVa7QB1JuJP"
      },
      "source": [
        "**Testing**"
      ]
    },
    {
      "cell_type": "code",
      "metadata": {
        "id": "bOvVvPIvZfOO"
      },
      "source": [
        "n_input = len(termTrain)\n",
        "n_hidden = 200\n",
        "n_output = 2\n",
        "#Inisialisasi Bobot\n",
        "w_hidden,w_output = weight(n_input,n_hidden,n_output)\n",
        "w_hidden = np.array(w_hidden)\n",
        "w_output = np.array(w_output)\n",
        "#Inisialisasi Bias\n",
        "b_hidden,b_output = bias(n_hidden,n_output)\n",
        "b_hidden = np.array(b_hidden)\n",
        "b_output = np.array(b_output)"
      ],
      "execution_count": null,
      "outputs": []
    },
    {
      "cell_type": "code",
      "metadata": {
        "id": "N7xDQNwpGy-U",
        "colab": {
          "base_uri": "https://localhost:8080/",
          "height": 519
        },
        "outputId": "d7782e38-06e6-4fb1-a2d6-85c2c1051573"
      },
      "source": [
        "#Shuffle dataset\n",
        "termfreqTrain,y_train = shuffle(termfreqTrain,y_train,random_state=2)\n",
        "#Parameter\n",
        "training_epochs = 600\n",
        "learning_rate = 0.1\n",
        "#Train\n",
        "w_output,b_output,w_hidden,b_hidden = training(training_epochs,termfreqTrain,y_train,w_hidden,w_output,b_hidden,b_output,learning_rate)\n",
        "#Testing\n",
        "test(termfreqTest,y_test,w_output,b_output,w_hidden,b_hidden)"
      ],
      "execution_count": null,
      "outputs": [
        {
          "output_type": "display_data",
          "data": {
            "image/png": "[encoded data removed]",
            "text/plain": [
              "<Figure size 576x360 with 2 Axes>"
            ]
          },
          "metadata": {
            "tags": [],
            "needs_background": "light"
          }
        },
        {
          "output_type": "stream",
          "text": [
            "              precision    recall  f1-score   support\n",
            "\n",
            "           0       0.80      0.98      0.88        41\n",
            "           1       0.98      0.83      0.90        59\n",
            "\n",
            "   micro avg       0.89      0.89      0.89       100\n",
            "   macro avg       0.89      0.90      0.89       100\n",
            "weighted avg       0.91      0.89      0.89       100\n",
            " samples avg       0.89      0.89      0.89       100\n",
            "\n"
          ],
          "name": "stdout"
        }
      ]
    }
  ]
}